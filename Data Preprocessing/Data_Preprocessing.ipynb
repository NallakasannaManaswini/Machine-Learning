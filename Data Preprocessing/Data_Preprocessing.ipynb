{
  "nbformat": 4,
  "nbformat_minor": 0,
  "metadata": {
    "colab": {
      "provenance": []
    },
    "kernelspec": {
      "name": "python3",
      "display_name": "Python 3"
    },
    "language_info": {
      "name": "python"
    }
  },
  "cells": [
    {
      "cell_type": "code",
      "execution_count": 1,
      "metadata": {
        "id": "T_8HePoAZTRJ"
      },
      "outputs": [],
      "source": [
        "import numpy as np\n",
        "import pandas as pd\n",
        "import matplotlib.pyplot as plt"
      ]
    },
    {
      "cell_type": "code",
      "source": [
        "data_file=pd.read_csv(\"Data.csv\")\n",
        "x=data_file.iloc[:,:-1].values\n",
        "y=data_file.iloc[:,-1].values"
      ],
      "metadata": {
        "id": "G_tscu_FZf57"
      },
      "execution_count": 2,
      "outputs": []
    },
    {
      "cell_type": "code",
      "source": [
        "from sklearn.impute import SimpleImputer\n",
        "tr=SimpleImputer(missing_values=np.nan,strategy='mean')\n",
        "x[:,1:3]=tr.fit_transform(x[:,1:3])"
      ],
      "metadata": {
        "id": "yN5hvIeuZjZE"
      },
      "execution_count": 3,
      "outputs": []
    },
    {
      "cell_type": "code",
      "source": [
        "from sklearn.compose import ColumnTransformer\n",
        "from sklearn.preprocessing import OneHotEncoder\n",
        "ans=ColumnTransformer(transformers=[('encoder',OneHotEncoder(),[0])],remainder=\"passthrough\")\n",
        "x=np.array(ans.fit_transform(x))"
      ],
      "metadata": {
        "id": "WwT3gejAZl4u"
      },
      "execution_count": 4,
      "outputs": []
    },
    {
      "cell_type": "code",
      "source": [
        "from sklearn.preprocessing import LabelEncoder\n",
        "n=LabelEncoder()\n",
        "y=n.fit_transform(y)"
      ],
      "metadata": {
        "id": "U4Sn7eAqZoun"
      },
      "execution_count": 5,
      "outputs": []
    },
    {
      "cell_type": "code",
      "source": [
        "from sklearn.model_selection import train_test_split\n",
        "x_train,x_test,y_train,y_test=train_test_split(x,y,test_size=0.2, random_state=2)\n",
        "print(x_train)\n",
        "print(x_test)\n",
        "print(y_train)\n",
        "print(y_test)"
      ],
      "metadata": {
        "colab": {
          "base_uri": "https://localhost:8080/"
        },
        "id": "aaMeXNXzZpwV",
        "outputId": "801be147-3df5-4554-d0c2-63ce8ed10f72"
      },
      "execution_count": 6,
      "outputs": [
        {
          "output_type": "stream",
          "name": "stdout",
          "text": [
            "[[1.0 0.0 0.0 0.0 35.0 58000.0]\n",
            " [1.0 0.0 0.0 0.0 44.0 72000.0]\n",
            " [1.0 0.0 0.0 0.0 48.0 79000.0]\n",
            " [0.0 1.0 0.0 0.0 30.0 54000.0]\n",
            " [0.0 0.0 1.0 0.0 38.0 61000.0]\n",
            " [0.0 0.0 0.0 1.0 38.77777777777778 52000.0]\n",
            " [1.0 0.0 0.0 0.0 37.0 67000.0]\n",
            " [0.0 1.0 0.0 0.0 50.0 83000.0]]\n",
            "[[0.0 1.0 0.0 0.0 40.0 63777.77777777778]\n",
            " [0.0 0.0 1.0 0.0 27.0 48000.0]]\n",
            "[1 0 1 0 0 0 1 0]\n",
            "[1 1]\n"
          ]
        }
      ]
    },
    {
      "cell_type": "code",
      "source": [
        "# from sklearn.preprocessing import StandardScaler\n",
        "# sc = StandardScaler()\n",
        "# X_train = sc.fit_transform(X_train)\n",
        "# X_test = sc.transform(X_test)\n",
        "from sklearn.preprocessing import normalize\n",
        "x_train[:,4:6]=normalize(x_train[:,4:])\n",
        "print(x_train)"
      ],
      "metadata": {
        "colab": {
          "base_uri": "https://localhost:8080/"
        },
        "id": "5tMu3dQ8ZuQC",
        "outputId": "856aecb6-a467-43bb-ea5c-36f581e7dd41"
      },
      "execution_count": 8,
      "outputs": [
        {
          "output_type": "stream",
          "name": "stdout",
          "text": [
            "[[1.0 0.0 0.0 0.0 0.0006034481659893079 0.9999998179251389]\n",
            " [1.0 0.0 0.0 0.0 0.0006111109969993461 0.9999998132716572]\n",
            " [1.0 0.0 0.0 0.0 0.0006075948245554922 0.9999998154142477]\n",
            " [0.0 1.0 0.0 0.0 0.0005555554698216934 0.9999998456790481]\n",
            " [0.0 0.0 1.0 0.0 0.000622950698798613 0.9999998059661946]\n",
            " [0.0 0.0 0.0 1.0 0.0007457262883743449 0.9999997219461129]\n",
            " [1.0 0.0 0.0 0.0 0.0005522387217626696 0.9999998475161855]\n",
            " [0.0 1.0 0.0 0.0 0.000602409529247809 0.999999818551363]]\n"
          ]
        }
      ]
    },
    {
      "cell_type": "code",
      "source": [
        "x_test[:,4:]=normalize(x_test[:,4:])\n",
        "print(x_test)"
      ],
      "metadata": {
        "colab": {
          "base_uri": "https://localhost:8080/"
        },
        "id": "eJMccUlbZx5B",
        "outputId": "22ef401c-be9b-4ed0-e45e-c83bf5c67bef"
      },
      "execution_count": 9,
      "outputs": [
        {
          "output_type": "stream",
          "name": "stdout",
          "text": [
            "[[0.0 1.0 0.0 0.0 0.0006271775769977084 0.9999998033241241]\n",
            " [0.0 0.0 1.0 0.0 0.0005624999110107633 0.9999998417969126]]\n"
          ]
        }
      ]
    }
  ]
}